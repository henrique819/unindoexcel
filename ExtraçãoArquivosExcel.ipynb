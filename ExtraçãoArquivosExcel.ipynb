{
 "cells": [
  {
   "cell_type": "markdown",
   "id": "62864d4f-e6ed-485c-95de-d36640582383",
   "metadata": {},
   "source": [
    "# UNINDO DIVERSOS ARQUIVOS EXCEL EM 1 ÚNICO ARQUIVO EXCEL"
   ]
  },
  {
   "cell_type": "code",
   "execution_count": null,
   "id": "4916764f-b5e3-4401-832a-2ada889f21e8",
   "metadata": {},
   "outputs": [],
   "source": [
    "#Acessando o diretório onde estão os meus arquivos:\n",
    "cd C:/Users/luis Shikasho/Documents/teste"
   ]
  },
  {
   "cell_type": "code",
   "execution_count": 34,
   "id": "6cdd6a47-94d3-49ed-a6b7-ed5db384034c",
   "metadata": {},
   "outputs": [
    {
     "name": "stdout",
     "output_type": "stream",
     "text": [
      " O volume na unidade C não tem nome.\n",
      " O Número de Série do Volume é 04F4-69E8\n",
      "\n",
      " Pasta de C:\\Users\\luis Shikasho\\Documents\\teste\n",
      "\n",
      "13/12/2022  22:15    <DIR>          .\n",
      "13/12/2022  22:15    <DIR>          ..\n",
      "13/12/2022  22:05             8.574 1-lojaA.xlsx\n",
      "13/12/2022  22:05             8.570 2-lojaA.xlsx\n",
      "13/12/2022  22:05             8.580 3-lojaA.xlsx\n",
      "               3 arquivo(s)         25.724 bytes\n",
      "               2 pasta(s)   74.961.674.240 bytes disponíveis\n"
     ]
    }
   ],
   "source": [
    "#Listando os arquivos '1-lojaA.xlsx', '2-lojaA.xlsx','3-lojaA.xlsx' que estão no diretório:\n",
    "ls"
   ]
  },
  {
   "cell_type": "code",
   "execution_count": 49,
   "id": "e114338e-73e5-44a5-b822-dc2ba767f15e",
   "metadata": {},
   "outputs": [
    {
     "data": {
      "text/html": [
       "<div>\n",
       "<style scoped>\n",
       "    .dataframe tbody tr th:only-of-type {\n",
       "        vertical-align: middle;\n",
       "    }\n",
       "\n",
       "    .dataframe tbody tr th {\n",
       "        vertical-align: top;\n",
       "    }\n",
       "\n",
       "    .dataframe thead th {\n",
       "        text-align: right;\n",
       "    }\n",
       "</style>\n",
       "<table border=\"1\" class=\"dataframe\">\n",
       "  <thead>\n",
       "    <tr style=\"text-align: right;\">\n",
       "      <th></th>\n",
       "      <th>produto</th>\n",
       "      <th>valor</th>\n",
       "    </tr>\n",
       "  </thead>\n",
       "  <tbody>\n",
       "    <tr>\n",
       "      <th>0</th>\n",
       "      <td>agua</td>\n",
       "      <td>1</td>\n",
       "    </tr>\n",
       "    <tr>\n",
       "      <th>1</th>\n",
       "      <td>suco</td>\n",
       "      <td>2</td>\n",
       "    </tr>\n",
       "    <tr>\n",
       "      <th>2</th>\n",
       "      <td>refrigerante</td>\n",
       "      <td>3</td>\n",
       "    </tr>\n",
       "  </tbody>\n",
       "</table>\n",
       "</div>"
      ],
      "text/plain": [
       "        produto  valor\n",
       "0          agua      1\n",
       "1          suco      2\n",
       "2  refrigerante      3"
      ]
     },
     "metadata": {},
     "output_type": "display_data"
    }
   ],
   "source": [
    "#Lendo o arquivo 1-lojaA.xlsx\n",
    "loja1 = pd.read_excel(\"1-lojaA.xlsx\")\n",
    "display(loja1)"
   ]
  },
  {
   "cell_type": "code",
   "execution_count": 50,
   "id": "85312a12-e53c-430c-ba4f-4c1a28fef7e8",
   "metadata": {},
   "outputs": [
    {
     "data": {
      "text/html": [
       "<div>\n",
       "<style scoped>\n",
       "    .dataframe tbody tr th:only-of-type {\n",
       "        vertical-align: middle;\n",
       "    }\n",
       "\n",
       "    .dataframe tbody tr th {\n",
       "        vertical-align: top;\n",
       "    }\n",
       "\n",
       "    .dataframe thead th {\n",
       "        text-align: right;\n",
       "    }\n",
       "</style>\n",
       "<table border=\"1\" class=\"dataframe\">\n",
       "  <thead>\n",
       "    <tr style=\"text-align: right;\">\n",
       "      <th></th>\n",
       "      <th>produto</th>\n",
       "      <th>valor</th>\n",
       "    </tr>\n",
       "  </thead>\n",
       "  <tbody>\n",
       "    <tr>\n",
       "      <th>0</th>\n",
       "      <td>arroz</td>\n",
       "      <td>5</td>\n",
       "    </tr>\n",
       "    <tr>\n",
       "      <th>1</th>\n",
       "      <td>feijao</td>\n",
       "      <td>5</td>\n",
       "    </tr>\n",
       "    <tr>\n",
       "      <th>2</th>\n",
       "      <td>farinha</td>\n",
       "      <td>3</td>\n",
       "    </tr>\n",
       "  </tbody>\n",
       "</table>\n",
       "</div>"
      ],
      "text/plain": [
       "   produto  valor\n",
       "0    arroz      5\n",
       "1   feijao      5\n",
       "2  farinha      3"
      ]
     },
     "metadata": {},
     "output_type": "display_data"
    }
   ],
   "source": [
    "#Lendo o arquivo 2-lojaA.xlsx\n",
    "loja2 = pd.read_excel(\"2-lojaA.xlsx\")\n",
    "display(loja2)"
   ]
  },
  {
   "cell_type": "code",
   "execution_count": 51,
   "id": "ba872369-a43d-4b93-bd0a-78696bf373dd",
   "metadata": {},
   "outputs": [
    {
     "data": {
      "text/html": [
       "<div>\n",
       "<style scoped>\n",
       "    .dataframe tbody tr th:only-of-type {\n",
       "        vertical-align: middle;\n",
       "    }\n",
       "\n",
       "    .dataframe tbody tr th {\n",
       "        vertical-align: top;\n",
       "    }\n",
       "\n",
       "    .dataframe thead th {\n",
       "        text-align: right;\n",
       "    }\n",
       "</style>\n",
       "<table border=\"1\" class=\"dataframe\">\n",
       "  <thead>\n",
       "    <tr style=\"text-align: right;\">\n",
       "      <th></th>\n",
       "      <th>produto</th>\n",
       "      <th>valor</th>\n",
       "    </tr>\n",
       "  </thead>\n",
       "  <tbody>\n",
       "    <tr>\n",
       "      <th>0</th>\n",
       "      <td>pao</td>\n",
       "      <td>4</td>\n",
       "    </tr>\n",
       "    <tr>\n",
       "      <th>1</th>\n",
       "      <td>macarrao</td>\n",
       "      <td>3</td>\n",
       "    </tr>\n",
       "    <tr>\n",
       "      <th>2</th>\n",
       "      <td>café</td>\n",
       "      <td>2</td>\n",
       "    </tr>\n",
       "  </tbody>\n",
       "</table>\n",
       "</div>"
      ],
      "text/plain": [
       "    produto  valor\n",
       "0       pao      4\n",
       "1  macarrao      3\n",
       "2      café      2"
      ]
     },
     "metadata": {},
     "output_type": "display_data"
    }
   ],
   "source": [
    "#Lendo o arquivo 3-lojaA.xlsx\n",
    "loja3 = pd.read_excel(\"3-lojaA.xlsx\")\n",
    "display(loja3)"
   ]
  },
  {
   "cell_type": "code",
   "execution_count": 55,
   "id": "36e8fffa-82c7-4f9d-a458-cb7b3e45b3fd",
   "metadata": {},
   "outputs": [
    {
     "name": "stdout",
     "output_type": "stream",
     "text": [
      "Carregando o arquivo 1-lojaA.xlsx...\n",
      "Carregando o arquivo 2-lojaA.xlsx...\n",
      "Carregando o arquivo 3-lojaA.xlsx...\n",
      "3\n"
     ]
    }
   ],
   "source": [
    "#Importe a biblioteca os\n",
    "import os \n",
    "\n",
    "#Importe a biblioteca pandas\n",
    "import pandas as pd \n",
    "\n",
    "#Localizando a pasta onde contém os arquivos\n",
    "data_arquivo_folder = r'C:\\Users\\luis Shikasho\\Documents\\teste'\n",
    "\n",
    "df = []\n",
    "\n",
    "#Se na pasta C:\\Users\\luis Shikasho\\Documents\\teste tiver um arquivo que termine com .xlsx, então:\n",
    "for file in os.listdir(data_arquivo_folder):\n",
    "    if file.endswith('.xlsx'):\n",
    "        print('Carregando o arquivo {0}...'.format(file))\n",
    "        #Junte todos esses arquivos em 1 único arquivo\n",
    "        df.append(pd.read_excel(os.path.join(data_arquivo_folder, file)))\n",
    "\n",
    "#Mostrando que foi feito com sucesso\n",
    "print(len(df))\n",
    "\n",
    "#Objeto para guardar o arquivo que foi \"juntado\"\n",
    "df_principal = pd.concat(df, axis=0)\n",
    "\n",
    "#Convertendo para EXCEL e deixando apenas com o primeiro índice\n",
    "df_principal.to_excel(r'C:\\Users\\luis Shikasho\\Documents\\teste\\tudoloja.xlsx', index=False)"
   ]
  },
  {
   "cell_type": "code",
   "execution_count": 56,
   "id": "5d2b6dfe-6d5d-41bc-a4b6-08880c4400b9",
   "metadata": {},
   "outputs": [
    {
     "data": {
      "text/html": [
       "<div>\n",
       "<style scoped>\n",
       "    .dataframe tbody tr th:only-of-type {\n",
       "        vertical-align: middle;\n",
       "    }\n",
       "\n",
       "    .dataframe tbody tr th {\n",
       "        vertical-align: top;\n",
       "    }\n",
       "\n",
       "    .dataframe thead th {\n",
       "        text-align: right;\n",
       "    }\n",
       "</style>\n",
       "<table border=\"1\" class=\"dataframe\">\n",
       "  <thead>\n",
       "    <tr style=\"text-align: right;\">\n",
       "      <th></th>\n",
       "      <th>produto</th>\n",
       "      <th>valor</th>\n",
       "    </tr>\n",
       "  </thead>\n",
       "  <tbody>\n",
       "    <tr>\n",
       "      <th>0</th>\n",
       "      <td>agua</td>\n",
       "      <td>1</td>\n",
       "    </tr>\n",
       "    <tr>\n",
       "      <th>1</th>\n",
       "      <td>suco</td>\n",
       "      <td>2</td>\n",
       "    </tr>\n",
       "    <tr>\n",
       "      <th>2</th>\n",
       "      <td>refrigerante</td>\n",
       "      <td>3</td>\n",
       "    </tr>\n",
       "    <tr>\n",
       "      <th>3</th>\n",
       "      <td>arroz</td>\n",
       "      <td>5</td>\n",
       "    </tr>\n",
       "    <tr>\n",
       "      <th>4</th>\n",
       "      <td>feijao</td>\n",
       "      <td>5</td>\n",
       "    </tr>\n",
       "    <tr>\n",
       "      <th>5</th>\n",
       "      <td>farinha</td>\n",
       "      <td>3</td>\n",
       "    </tr>\n",
       "    <tr>\n",
       "      <th>6</th>\n",
       "      <td>pao</td>\n",
       "      <td>4</td>\n",
       "    </tr>\n",
       "    <tr>\n",
       "      <th>7</th>\n",
       "      <td>macarrao</td>\n",
       "      <td>3</td>\n",
       "    </tr>\n",
       "    <tr>\n",
       "      <th>8</th>\n",
       "      <td>café</td>\n",
       "      <td>2</td>\n",
       "    </tr>\n",
       "  </tbody>\n",
       "</table>\n",
       "</div>"
      ],
      "text/plain": [
       "        produto  valor\n",
       "0          agua      1\n",
       "1          suco      2\n",
       "2  refrigerante      3\n",
       "3         arroz      5\n",
       "4        feijao      5\n",
       "5       farinha      3\n",
       "6           pao      4\n",
       "7      macarrao      3\n",
       "8          café      2"
      ]
     },
     "metadata": {},
     "output_type": "display_data"
    }
   ],
   "source": [
    "#Exibindo o conteúdo que foi \"juntado\" num único arquivo\n",
    "tudoloja = pd.read_excel(\"tudoloja.xlsx\")\n",
    "display(tudoloja)"
   ]
  },
  {
   "cell_type": "code",
   "execution_count": null,
   "id": "d14a1bc2-dc94-4460-89bf-47659dbbd805",
   "metadata": {},
   "outputs": [],
   "source": []
  }
 ],
 "metadata": {
  "kernelspec": {
   "display_name": "Python 3 (ipykernel)",
   "language": "python",
   "name": "python3"
  },
  "language_info": {
   "codemirror_mode": {
    "name": "ipython",
    "version": 3
   },
   "file_extension": ".py",
   "mimetype": "text/x-python",
   "name": "python",
   "nbconvert_exporter": "python",
   "pygments_lexer": "ipython3",
   "version": "3.9.13"
  }
 },
 "nbformat": 4,
 "nbformat_minor": 5
}
